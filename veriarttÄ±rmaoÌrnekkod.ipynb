{
  "cells": [
    {
      "cell_type": "code",
      "execution_count": 5,
      "metadata": {
        "colab": {
          "base_uri": "https://localhost:8080/"
        },
        "id": "Z69ktdZslV5G",
        "outputId": "49a1e191-60ff-4a6b-831c-c8d7d1866612"
      },
      "outputs": [
        {
          "name": "stdout",
          "output_type": "stream",
          "text": [
            "ZIP dosyasından çıkarılan dosyalar: ['ardilberra', 'ard─▒l berra', '__MACOSX']\n"
          ]
        }
      ],
      "source": [
        "import zipfile\n",
        "import os\n",
        "\n",
        "zip_file_path = '/content/ardilberra.zip'  # ZIP dosyasının yolu\n",
        "extracted_folder = '/content/ses'  # Çıkartılacak klasör\n",
        "\n",
        "with zipfile.ZipFile(zip_file_path, 'r') as zip_ref:\n",
        "    zip_ref.extractall(extracted_folder)\n",
        "\n",
        "# Çıkartılan dosyaları kontrol edelim\n",
        "extracted_files = os.listdir(extracted_folder)\n",
        "print(f\"ZIP dosyasından çıkarılan dosyalar: {extracted_files}\")\n",
        "\n"
      ]
    },
    {
      "cell_type": "code",
      "execution_count": 3,
      "metadata": {
        "colab": {
          "base_uri": "https://localhost:8080/"
        },
        "id": "myP_DnUz3BWi",
        "outputId": "112e874f-8840-492f-ce3a-bdd96a77bd8e"
      },
      "outputs": [
        {
          "name": "stdout",
          "output_type": "stream",
          "text": [
            "Collecting pydub\n",
            "  Downloading pydub-0.25.1-py2.py3-none-any.whl.metadata (1.4 kB)\n",
            "Downloading pydub-0.25.1-py2.py3-none-any.whl (32 kB)\n",
            "Installing collected packages: pydub\n",
            "Successfully installed pydub-0.25.1\n"
          ]
        }
      ],
      "source": [
        "!pip install pydub"
      ]
    },
    {
      "cell_type": "code",
      "execution_count": 6,
      "metadata": {
        "colab": {
          "base_uri": "https://localhost:8080/"
        },
        "id": "3jVR9l0tla2F",
        "outputId": "10515672-7f5c-4362-fa76-21278e4d6888"
      },
      "outputs": [
        {
          "name": "stdout",
          "output_type": "stream",
          "text": [
            "/content/ses/ardilberra/blue/mavi_cafe_ardil.m4a dönüştürüldü ve silindi.\n",
            "/content/ses/ardilberra/blue/mavi_cafe_fisilti_ardil.m4a dönüştürüldü ve silindi.\n",
            "/content/ses/ardilberra/blue/mavi_yagmur_fisilti_ardil.m4a dönüştürüldü ve silindi.\n",
            "/content/ses/ardilberra/blue/bluenberra.m4a dönüştürüldü ve silindi.\n",
            "/content/ses/ardilberra/blue/mavi_yagmur_ardil.m4a dönüştürüldü ve silindi.\n",
            "/content/ses/ardilberra/blue/mavi_klima_ardil.m4a dönüştürüldü ve silindi.\n",
            "/content/ses/ardilberra/blue/mavi_temiz_ardil.m4a dönüştürüldü ve silindi.\n",
            "/content/ses/ardilberra/blue/mavi_klima_fisilti_ardil.m4a dönüştürüldü ve silindi.\n",
            "/content/ses/ardilberra/blue/mavi_temiz_fisilti_ardil.m4a dönüştürüldü ve silindi.\n",
            "/content/ses/ardilberra/blue/blueberra.m4a dönüştürüldü ve silindi.\n",
            "/content/ses/ardilberra/green/yesil_cafe_fisilti_ardil.m4a dönüştürüldü ve silindi.\n",
            "/content/ses/ardilberra/green/yesil_yagmur_fisilti_ardil.m4a dönüştürüldü ve silindi.\n",
            "/content/ses/ardilberra/green/yesil_klima_ardil.m4a dönüştürüldü ve silindi.\n",
            "/content/ses/ardilberra/green/yesil_temiz_fisilti_ardil.m4a dönüştürüldü ve silindi.\n",
            "/content/ses/ardilberra/green/yesil_yagmur_ardil.m4a dönüştürüldü ve silindi.\n",
            "/content/ses/ardilberra/green/yesil_klima_fisilti_ardil.m4a dönüştürüldü ve silindi.\n",
            "/content/ses/ardilberra/green/yesil_temiz_ardil.m4a dönüştürüldü ve silindi.\n",
            "/content/ses/ardilberra/green/greennberra.m4a dönüştürüldü ve silindi.\n",
            "/content/ses/ardilberra/green/yesil_cafe_ardil.m4a dönüştürüldü ve silindi.\n",
            "/content/ses/ardilberra/green/greenberra.m4a dönüştürüldü ve silindi.\n",
            "/content/ses/ardilberra/red/kirmizi_klima_ardil.m4a dönüştürüldü ve silindi.\n",
            "/content/ses/ardilberra/red/kirmizi_yagmur_ardil.m4a dönüştürüldü ve silindi.\n",
            "/content/ses/ardilberra/red/rednberra.m4a dönüştürüldü ve silindi.\n",
            "/content/ses/ardilberra/red/kirmizi_cafe_fisilti_ardil.m4a dönüştürüldü ve silindi.\n",
            "/content/ses/ardilberra/red/kirmizi_cafe_ardil.m4a dönüştürüldü ve silindi.\n",
            "/content/ses/ardilberra/red/kirmizi_temiz_fisilti_ardil.m4a dönüştürüldü ve silindi.\n",
            "/content/ses/ardilberra/red/kirmizi_yagmur_fisilti_ardil.m4a dönüştürüldü ve silindi.\n",
            "/content/ses/ardilberra/red/kirmizi_temiz_ardil.m4a dönüştürüldü ve silindi.\n",
            "/content/ses/ardilberra/red/kirmizi_klima_fisilti_ardil.m4a dönüştürüldü ve silindi.\n",
            "/content/ses/ardilberra/red/redberra.m4a dönüştürüldü ve silindi.\n",
            "/content/ses/ardilberra/close/kapa_cafe_ardil.m4a dönüştürüldü ve silindi.\n",
            "/content/ses/ardilberra/close/kapa_klima_ardil.m4a dönüştürüldü ve silindi.\n",
            "/content/ses/ardilberra/close/kapa_temiz_ardil.m4a dönüştürüldü ve silindi.\n",
            "/content/ses/ardilberra/close/kapa_cafe_fisilti_ardil.m4a dönüştürüldü ve silindi.\n",
            "/content/ses/ardilberra/close/kapa_klima_fisilti_ardil.m4a dönüştürüldü ve silindi.\n",
            "/content/ses/ardilberra/close/kapa_temiz_fisilti_ardil.m4a dönüştürüldü ve silindi.\n",
            "/content/ses/ardilberra/close/closenberra.m4a dönüştürüldü ve silindi.\n",
            "/content/ses/ardilberra/close/kapa_yagmur_ardil.m4a dönüştürüldü ve silindi.\n",
            "/content/ses/ardilberra/close/closeberra.m4a dönüştürüldü ve silindi.\n",
            "/content/ses/ardilberra/close/kapa_yagmur_fisilti_ardil.m4a dönüştürüldü ve silindi.\n",
            "/content/ses/ardilberra/open/ac_yagmur_ardil.m4a dönüştürüldü ve silindi.\n",
            "/content/ses/ardilberra/open/ac_cafe_ardil.m4a dönüştürüldü ve silindi.\n",
            "/content/ses/ardilberra/open/ac_cafe_fisilti_ardil.m4a dönüştürüldü ve silindi.\n",
            "/content/ses/ardilberra/open/ac_temiz_ardil.m4a dönüştürüldü ve silindi.\n",
            "/content/ses/ardilberra/open/opennberra.m4a dönüştürüldü ve silindi.\n",
            "/content/ses/ardilberra/open/ac_temiz_fisilti_ardil.m4a dönüştürüldü ve silindi.\n",
            "/content/ses/ardilberra/open/ac_yagmur_fisilti_ardil.m4a dönüştürüldü ve silindi.\n",
            "/content/ses/ardilberra/open/ac_klima_fisilti_ardil.m4a dönüştürüldü ve silindi.\n",
            "/content/ses/ardilberra/open/ac_klima_ardil.m4a dönüştürüldü ve silindi.\n",
            "/content/ses/ardilberra/open/openberra.m4a dönüştürüldü ve silindi.\n"
          ]
        }
      ],
      "source": [
        "import os\n",
        "from pydub import AudioSegment\n",
        "\n",
        "# Dosya yolunu belirleyin\n",
        "base_dir = \"/content/ses/ardilberra\"\n",
        "\n",
        "# Klasörler\n",
        "folders = ['blue', 'green', 'red', 'close', 'open']\n",
        "\n",
        "# Dosyaları dönüştürüp silme işlemi\n",
        "for folder in folders:\n",
        "    folder_path = os.path.join(base_dir, folder)\n",
        "\n",
        "    # Eğer klasör mevcutsa\n",
        "    if os.path.exists(folder_path):\n",
        "        for filename in os.listdir(folder_path):\n",
        "            if filename.endswith(\".m4a\"):\n",
        "                # .m4a dosyasının yolu\n",
        "                m4a_file_path = os.path.join(folder_path, filename)\n",
        "\n",
        "                # Yeni .wav dosyasının adı\n",
        "                wav_file_path = os.path.join(folder_path, filename.replace(\".m4a\", \".wav\"))\n",
        "\n",
        "                # .m4a dosyasını .wav'e dönüştür\n",
        "                audio = AudioSegment.from_file(m4a_file_path, format=\"m4a\")\n",
        "                audio.export(wav_file_path, format=\"wav\")\n",
        "\n",
        "                # .m4a dosyasını sil\n",
        "                os.remove(m4a_file_path)\n",
        "                print(f\"{m4a_file_path} dönüştürüldü ve silindi.\")\n"
      ]
    },
    {
      "cell_type": "code",
      "execution_count": 8,
      "metadata": {
        "colab": {
          "base_uri": "https://localhost:8080/"
        },
        "id": "08JDf5tF4UrD",
        "outputId": "089c7ff8-10a2-48a9-b5f4-175df426f015"
      },
      "outputs": [
        {
          "name": "stdout",
          "output_type": "stream",
          "text": [
            "Collecting noisereduce\n",
            "  Downloading noisereduce-3.0.3-py3-none-any.whl.metadata (14 kB)\n",
            "Requirement already satisfied: scipy in /usr/local/lib/python3.11/dist-packages (from noisereduce) (1.13.1)\n",
            "Requirement already satisfied: matplotlib in /usr/local/lib/python3.11/dist-packages (from noisereduce) (3.10.0)\n",
            "Requirement already satisfied: numpy in /usr/local/lib/python3.11/dist-packages (from noisereduce) (1.26.4)\n",
            "Requirement already satisfied: tqdm in /usr/local/lib/python3.11/dist-packages (from noisereduce) (4.67.1)\n",
            "Requirement already satisfied: joblib in /usr/local/lib/python3.11/dist-packages (from noisereduce) (1.4.2)\n",
            "Requirement already satisfied: contourpy>=1.0.1 in /usr/local/lib/python3.11/dist-packages (from matplotlib->noisereduce) (1.3.1)\n",
            "Requirement already satisfied: cycler>=0.10 in /usr/local/lib/python3.11/dist-packages (from matplotlib->noisereduce) (0.12.1)\n",
            "Requirement already satisfied: fonttools>=4.22.0 in /usr/local/lib/python3.11/dist-packages (from matplotlib->noisereduce) (4.55.3)\n",
            "Requirement already satisfied: kiwisolver>=1.3.1 in /usr/local/lib/python3.11/dist-packages (from matplotlib->noisereduce) (1.4.8)\n",
            "Requirement already satisfied: packaging>=20.0 in /usr/local/lib/python3.11/dist-packages (from matplotlib->noisereduce) (24.2)\n",
            "Requirement already satisfied: pillow>=8 in /usr/local/lib/python3.11/dist-packages (from matplotlib->noisereduce) (11.1.0)\n",
            "Requirement already satisfied: pyparsing>=2.3.1 in /usr/local/lib/python3.11/dist-packages (from matplotlib->noisereduce) (3.2.1)\n",
            "Requirement already satisfied: python-dateutil>=2.7 in /usr/local/lib/python3.11/dist-packages (from matplotlib->noisereduce) (2.8.2)\n",
            "Requirement already satisfied: six>=1.5 in /usr/local/lib/python3.11/dist-packages (from python-dateutil>=2.7->matplotlib->noisereduce) (1.17.0)\n",
            "Downloading noisereduce-3.0.3-py3-none-any.whl (22 kB)\n",
            "Installing collected packages: noisereduce\n",
            "Successfully installed noisereduce-3.0.3\n"
          ]
        }
      ],
      "source": [
        "pip install noisereduce"
      ]
    },
    {
      "cell_type": "code",
      "execution_count": 10,
      "metadata": {
        "colab": {
          "base_uri": "https://localhost:8080/"
        },
        "id": "0R9EUgaKla5M",
        "outputId": "4447734f-b704-496f-a702-9cd1522a9311"
      },
      "outputs": [
        {
          "name": "stdout",
          "output_type": "stream",
          "text": [
            "/content/ses/ardilberra/blue/mavi_yagmur_fisilti_ardil.wav normalizasyon uygulandı: /content/ses/ardilberra/blue/normalized_mavi_yagmur_fisilti_ardil.wav\n",
            "/content/ses/ardilberra/blue/mavi_klima_ardil.wav normalizasyon uygulandı: /content/ses/ardilberra/blue/normalized_mavi_klima_ardil.wav\n",
            "/content/ses/ardilberra/blue/normalized_mavi_yagmur_fisilti_ardil.wav normalizasyon uygulandı: /content/ses/ardilberra/blue/normalized_normalized_mavi_yagmur_fisilti_ardil.wav\n",
            "/content/ses/ardilberra/blue/mavi_cafe_fisilti_ardil.wav normalizasyon uygulandı: /content/ses/ardilberra/blue/normalized_mavi_cafe_fisilti_ardil.wav\n",
            "/content/ses/ardilberra/blue/mavi_cafe_ardil.wav normalizasyon uygulandı: /content/ses/ardilberra/blue/normalized_mavi_cafe_ardil.wav\n",
            "/content/ses/ardilberra/blue/mavi_temiz_fisilti_ardil.wav normalizasyon uygulandı: /content/ses/ardilberra/blue/normalized_mavi_temiz_fisilti_ardil.wav\n",
            "/content/ses/ardilberra/blue/mavi_klima_fisilti_ardil.wav normalizasyon uygulandı: /content/ses/ardilberra/blue/normalized_mavi_klima_fisilti_ardil.wav\n",
            "/content/ses/ardilberra/blue/mavi_temiz_ardil.wav normalizasyon uygulandı: /content/ses/ardilberra/blue/normalized_mavi_temiz_ardil.wav\n",
            "/content/ses/ardilberra/blue/bluenberra.wav normalizasyon uygulandı: /content/ses/ardilberra/blue/normalized_bluenberra.wav\n",
            "/content/ses/ardilberra/blue/mavi_yagmur_ardil.wav normalizasyon uygulandı: /content/ses/ardilberra/blue/normalized_mavi_yagmur_ardil.wav\n",
            "/content/ses/ardilberra/blue/blueberra.wav normalizasyon uygulandı: /content/ses/ardilberra/blue/normalized_blueberra.wav\n",
            "/content/ses/ardilberra/green/yesil_klima_ardil.wav normalizasyon uygulandı: /content/ses/ardilberra/green/normalized_yesil_klima_ardil.wav\n",
            "/content/ses/ardilberra/green/yesil_yagmur_fisilti_ardil.wav normalizasyon uygulandı: /content/ses/ardilberra/green/normalized_yesil_yagmur_fisilti_ardil.wav\n",
            "/content/ses/ardilberra/green/greennberra.wav normalizasyon uygulandı: /content/ses/ardilberra/green/normalized_greennberra.wav\n",
            "/content/ses/ardilberra/green/yesil_temiz_ardil.wav normalizasyon uygulandı: /content/ses/ardilberra/green/normalized_yesil_temiz_ardil.wav\n",
            "/content/ses/ardilberra/green/yesil_yagmur_ardil.wav normalizasyon uygulandı: /content/ses/ardilberra/green/normalized_yesil_yagmur_ardil.wav\n",
            "/content/ses/ardilberra/green/greenberra.wav normalizasyon uygulandı: /content/ses/ardilberra/green/normalized_greenberra.wav\n",
            "/content/ses/ardilberra/green/yesil_cafe_ardil.wav normalizasyon uygulandı: /content/ses/ardilberra/green/normalized_yesil_cafe_ardil.wav\n",
            "/content/ses/ardilberra/green/yesil_klima_fisilti_ardil.wav normalizasyon uygulandı: /content/ses/ardilberra/green/normalized_yesil_klima_fisilti_ardil.wav\n",
            "/content/ses/ardilberra/green/yesil_cafe_fisilti_ardil.wav normalizasyon uygulandı: /content/ses/ardilberra/green/normalized_yesil_cafe_fisilti_ardil.wav\n",
            "/content/ses/ardilberra/green/yesil_temiz_fisilti_ardil.wav normalizasyon uygulandı: /content/ses/ardilberra/green/normalized_yesil_temiz_fisilti_ardil.wav\n",
            "/content/ses/ardilberra/red/redberra.wav normalizasyon uygulandı: /content/ses/ardilberra/red/normalized_redberra.wav\n",
            "/content/ses/ardilberra/red/kirmizi_yagmur_ardil.wav normalizasyon uygulandı: /content/ses/ardilberra/red/normalized_kirmizi_yagmur_ardil.wav\n",
            "/content/ses/ardilberra/red/kirmizi_klima_fisilti_ardil.wav normalizasyon uygulandı: /content/ses/ardilberra/red/normalized_kirmizi_klima_fisilti_ardil.wav\n",
            "/content/ses/ardilberra/red/kirmizi_temiz_ardil.wav normalizasyon uygulandı: /content/ses/ardilberra/red/normalized_kirmizi_temiz_ardil.wav\n",
            "/content/ses/ardilberra/red/kirmizi_cafe_fisilti_ardil.wav normalizasyon uygulandı: /content/ses/ardilberra/red/normalized_kirmizi_cafe_fisilti_ardil.wav\n",
            "/content/ses/ardilberra/red/kirmizi_klima_ardil.wav normalizasyon uygulandı: /content/ses/ardilberra/red/normalized_kirmizi_klima_ardil.wav\n",
            "/content/ses/ardilberra/red/rednberra.wav normalizasyon uygulandı: /content/ses/ardilberra/red/normalized_rednberra.wav\n",
            "/content/ses/ardilberra/red/kirmizi_yagmur_fisilti_ardil.wav normalizasyon uygulandı: /content/ses/ardilberra/red/normalized_kirmizi_yagmur_fisilti_ardil.wav\n",
            "/content/ses/ardilberra/red/kirmizi_cafe_ardil.wav normalizasyon uygulandı: /content/ses/ardilberra/red/normalized_kirmizi_cafe_ardil.wav\n",
            "/content/ses/ardilberra/red/kirmizi_temiz_fisilti_ardil.wav normalizasyon uygulandı: /content/ses/ardilberra/red/normalized_kirmizi_temiz_fisilti_ardil.wav\n",
            "/content/ses/ardilberra/close/kapa_temiz_fisilti_ardil.wav normalizasyon uygulandı: /content/ses/ardilberra/close/normalized_kapa_temiz_fisilti_ardil.wav\n",
            "/content/ses/ardilberra/close/kapa_klima_ardil.wav normalizasyon uygulandı: /content/ses/ardilberra/close/normalized_kapa_klima_ardil.wav\n",
            "/content/ses/ardilberra/close/kapa_cafe_ardil.wav normalizasyon uygulandı: /content/ses/ardilberra/close/normalized_kapa_cafe_ardil.wav\n",
            "/content/ses/ardilberra/close/kapa_cafe_fisilti_ardil.wav normalizasyon uygulandı: /content/ses/ardilberra/close/normalized_kapa_cafe_fisilti_ardil.wav\n",
            "/content/ses/ardilberra/close/closenberra.wav normalizasyon uygulandı: /content/ses/ardilberra/close/normalized_closenberra.wav\n",
            "/content/ses/ardilberra/close/kapa_klima_fisilti_ardil.wav normalizasyon uygulandı: /content/ses/ardilberra/close/normalized_kapa_klima_fisilti_ardil.wav\n",
            "/content/ses/ardilberra/close/closeberra.wav normalizasyon uygulandı: /content/ses/ardilberra/close/normalized_closeberra.wav\n",
            "/content/ses/ardilberra/close/kapa_yagmur_ardil.wav normalizasyon uygulandı: /content/ses/ardilberra/close/normalized_kapa_yagmur_ardil.wav\n",
            "/content/ses/ardilberra/close/kapa_yagmur_fisilti_ardil.wav normalizasyon uygulandı: /content/ses/ardilberra/close/normalized_kapa_yagmur_fisilti_ardil.wav\n",
            "/content/ses/ardilberra/close/kapa_temiz_ardil.wav normalizasyon uygulandı: /content/ses/ardilberra/close/normalized_kapa_temiz_ardil.wav\n",
            "/content/ses/ardilberra/open/ac_temiz_ardil.wav normalizasyon uygulandı: /content/ses/ardilberra/open/normalized_ac_temiz_ardil.wav\n",
            "/content/ses/ardilberra/open/ac_cafe_fisilti_ardil.wav normalizasyon uygulandı: /content/ses/ardilberra/open/normalized_ac_cafe_fisilti_ardil.wav\n",
            "/content/ses/ardilberra/open/ac_klima_ardil.wav normalizasyon uygulandı: /content/ses/ardilberra/open/normalized_ac_klima_ardil.wav\n",
            "/content/ses/ardilberra/open/ac_yagmur_ardil.wav normalizasyon uygulandı: /content/ses/ardilberra/open/normalized_ac_yagmur_ardil.wav\n",
            "/content/ses/ardilberra/open/opennberra.wav normalizasyon uygulandı: /content/ses/ardilberra/open/normalized_opennberra.wav\n",
            "/content/ses/ardilberra/open/ac_cafe_ardil.wav normalizasyon uygulandı: /content/ses/ardilberra/open/normalized_ac_cafe_ardil.wav\n",
            "/content/ses/ardilberra/open/ac_klima_fisilti_ardil.wav normalizasyon uygulandı: /content/ses/ardilberra/open/normalized_ac_klima_fisilti_ardil.wav\n",
            "/content/ses/ardilberra/open/ac_yagmur_fisilti_ardil.wav normalizasyon uygulandı: /content/ses/ardilberra/open/normalized_ac_yagmur_fisilti_ardil.wav\n",
            "/content/ses/ardilberra/open/openberra.wav normalizasyon uygulandı: /content/ses/ardilberra/open/normalized_openberra.wav\n",
            "/content/ses/ardilberra/open/ac_temiz_fisilti_ardil.wav normalizasyon uygulandı: /content/ses/ardilberra/open/normalized_ac_temiz_fisilti_ardil.wav\n"
          ]
        }
      ],
      "source": [
        "import os\n",
        "import numpy as np\n",
        "from pydub import AudioSegment\n",
        "from scipy.io import wavfile\n",
        "\n",
        "# Dosya yolunu belirleyin\n",
        "base_dir = \"/content/ses/ardilberra\"\n",
        "\n",
        "# Klasörler\n",
        "folders = ['blue', 'green', 'red', 'close', 'open']\n",
        "\n",
        "# Dosyaları normalizasyon işlemi\n",
        "for folder in folders:\n",
        "    folder_path = os.path.join(base_dir, folder)\n",
        "\n",
        "    # Eğer klasör mevcutsa\n",
        "    if os.path.exists(folder_path):\n",
        "        for filename in os.listdir(folder_path):\n",
        "            if filename.endswith(\".wav\"):\n",
        "                # .wav dosyasının yolu\n",
        "                wav_file_path = os.path.join(folder_path, filename)\n",
        "\n",
        "                # 1. Orijinal sesin verisini yükle\n",
        "                rate, data = wavfile.read(wav_file_path)\n",
        "\n",
        "                # 2. Normalizasyon\n",
        "                audio = AudioSegment.from_wav(wav_file_path)\n",
        "                audio = audio.normalize()  # Normalizasyon işlemi\n",
        "\n",
        "                # Normalizasyon sonrası dosyayı kaydet\n",
        "                normalized_wav_file_path = os.path.join(folder_path, f\"normalized_{filename}\")\n",
        "                audio.export(normalized_wav_file_path, format=\"wav\")\n",
        "\n",
        "                print(f\"{wav_file_path} normalizasyon uygulandı: {normalized_wav_file_path}\")\n"
      ]
    },
    {
      "cell_type": "code",
      "execution_count": 11,
      "metadata": {
        "colab": {
          "base_uri": "https://localhost:8080/"
        },
        "id": "Ze77v_rila8R",
        "outputId": "a8ca6e8e-0849-40a8-adab-7cd232e4258d"
      },
      "outputs": [
        {
          "name": "stdout",
          "output_type": "stream",
          "text": [
            "Veri artırma işlemi tamamlandı: normalized_mavi_temiz_ardil.wav\n",
            "Veri artırma işlemi tamamlandı: normalized_blueberra.wav\n",
            "Veri artırma işlemi tamamlandı: normalized_bluenberra.wav\n",
            "Veri artırma işlemi tamamlandı: normalized_mavi_yagmur_fisilti_ardil.wav\n",
            "Veri artırma işlemi tamamlandı: normalized_mavi_klima_ardil.wav\n",
            "Veri artırma işlemi tamamlandı: normalized_mavi_yagmur_ardil.wav\n",
            "Veri artırma işlemi tamamlandı: normalized_mavi_klima_fisilti_ardil.wav\n",
            "Veri artırma işlemi tamamlandı: normalized_normalized_mavi_yagmur_fisilti_ardil.wav\n",
            "Veri artırma işlemi tamamlandı: normalized_mavi_cafe_fisilti_ardil.wav\n",
            "Veri artırma işlemi tamamlandı: normalized_mavi_temiz_fisilti_ardil.wav\n",
            "Veri artırma işlemi tamamlandı: normalized_mavi_cafe_ardil.wav\n",
            "Veri artırma işlemi tamamlandı: normalized_greenberra.wav\n",
            "Veri artırma işlemi tamamlandı: normalized_yesil_cafe_fisilti_ardil.wav\n",
            "Veri artırma işlemi tamamlandı: normalized_yesil_temiz_fisilti_ardil.wav\n",
            "Veri artırma işlemi tamamlandı: normalized_greennberra.wav\n",
            "Veri artırma işlemi tamamlandı: normalized_yesil_yagmur_ardil.wav\n",
            "Veri artırma işlemi tamamlandı: normalized_yesil_klima_ardil.wav\n",
            "Veri artırma işlemi tamamlandı: normalized_yesil_temiz_ardil.wav\n",
            "Veri artırma işlemi tamamlandı: normalized_yesil_yagmur_fisilti_ardil.wav\n",
            "Veri artırma işlemi tamamlandı: normalized_yesil_cafe_ardil.wav\n",
            "Veri artırma işlemi tamamlandı: normalized_yesil_klima_fisilti_ardil.wav\n",
            "Veri artırma işlemi tamamlandı: normalized_kirmizi_cafe_fisilti_ardil.wav\n",
            "Veri artırma işlemi tamamlandı: normalized_kirmizi_temiz_ardil.wav\n",
            "Veri artırma işlemi tamamlandı: normalized_kirmizi_cafe_ardil.wav\n",
            "Veri artırma işlemi tamamlandı: normalized_rednberra.wav\n",
            "Veri artırma işlemi tamamlandı: normalized_redberra.wav\n",
            "Veri artırma işlemi tamamlandı: normalized_kirmizi_yagmur_ardil.wav\n",
            "Veri artırma işlemi tamamlandı: normalized_kirmizi_klima_ardil.wav\n",
            "Veri artırma işlemi tamamlandı: normalized_kirmizi_klima_fisilti_ardil.wav\n",
            "Veri artırma işlemi tamamlandı: normalized_kirmizi_yagmur_fisilti_ardil.wav\n",
            "Veri artırma işlemi tamamlandı: normalized_kirmizi_temiz_fisilti_ardil.wav\n",
            "Veri artırma işlemi tamamlandı: normalized_kapa_temiz_ardil.wav\n",
            "Veri artırma işlemi tamamlandı: normalized_kapa_temiz_fisilti_ardil.wav\n",
            "Veri artırma işlemi tamamlandı: normalized_kapa_yagmur_ardil.wav\n",
            "Veri artırma işlemi tamamlandı: normalized_kapa_cafe_ardil.wav\n",
            "Veri artırma işlemi tamamlandı: normalized_kapa_klima_fisilti_ardil.wav\n",
            "Veri artırma işlemi tamamlandı: normalized_kapa_cafe_fisilti_ardil.wav\n",
            "Veri artırma işlemi tamamlandı: normalized_closenberra.wav\n",
            "Veri artırma işlemi tamamlandı: normalized_kapa_klima_ardil.wav\n",
            "Veri artırma işlemi tamamlandı: normalized_kapa_yagmur_fisilti_ardil.wav\n",
            "Veri artırma işlemi tamamlandı: normalized_closeberra.wav\n",
            "Veri artırma işlemi tamamlandı: normalized_ac_cafe_fisilti_ardil.wav\n",
            "Veri artırma işlemi tamamlandı: normalized_ac_klima_ardil.wav\n",
            "Veri artırma işlemi tamamlandı: normalized_ac_yagmur_ardil.wav\n",
            "Veri artırma işlemi tamamlandı: normalized_opennberra.wav\n",
            "Veri artırma işlemi tamamlandı: normalized_ac_temiz_fisilti_ardil.wav\n",
            "Veri artırma işlemi tamamlandı: normalized_openberra.wav\n",
            "Veri artırma işlemi tamamlandı: normalized_ac_cafe_ardil.wav\n",
            "Veri artırma işlemi tamamlandı: normalized_ac_temiz_ardil.wav\n",
            "Veri artırma işlemi tamamlandı: normalized_ac_yagmur_fisilti_ardil.wav\n",
            "Veri artırma işlemi tamamlandı: normalized_ac_klima_fisilti_ardil.wav\n"
          ]
        }
      ],
      "source": [
        "import os\n",
        "import numpy as np\n",
        "import librosa\n",
        "import noisereduce as nr\n",
        "from pydub import AudioSegment\n",
        "import soundfile as sf\n",
        "import random\n",
        "import matplotlib.pyplot as plt\n",
        "\n",
        "# Dosya yolunu belirleyin\n",
        "base_dir = \"/content/ses/ardilberra\"\n",
        "folders = ['blue', 'green', 'red', 'close', 'open']\n",
        "\n",
        "# Ses veri artırma fonksiyonları\n",
        "\n",
        "def time_stretch(audio, rate=1.2):\n",
        "    # Zaman geriye veya ileriye uzatma\n",
        "    return audio.speedup(playback_speed=rate) if rate > 1 else audio\n",
        "\n",
        "def pitch_shift(audio, n_steps=4):\n",
        "    # Sesin yüksekliğini değiştir\n",
        "    return audio._spawn(audio.raw_data, overrides={\"frame_rate\": int(audio.frame_rate * (2 ** (n_steps / 12.0)))}).set_frame_rate(audio.frame_rate)\n",
        "\n",
        "def add_white_noise(audio, noise_level=0.05):\n",
        "    # Beyaz gürültü ekleme\n",
        "    noise = np.random.normal(0, noise_level, len(audio.get_array_of_samples()))\n",
        "    noisy_audio = np.array(audio.get_array_of_samples()) + noise\n",
        "    audio_with_noise = audio._spawn(noisy_audio.astype(np.int16).tobytes())\n",
        "    return audio_with_noise\n",
        "\n",
        "def speed_perturbation(audio, speed_factor=1.5):\n",
        "    # Sesin hızını değiştirme\n",
        "    return audio.speedup(playback_speed=speed_factor)\n",
        "\n",
        "def add_reverb(wav_file_path):\n",
        "    # Reverb eklemek (librosa ve soundfile kullanarak)\n",
        "    y, sr = librosa.load(wav_file_path, sr=None)\n",
        "    y_reverb = librosa.effects.preemphasis(y)  # Reverb yerine basit bir efekt\n",
        "    sf.write('reverb.wav', y_reverb, sr)  # Reverb efektini kaydet\n",
        "    return AudioSegment.from_wav('reverb.wav')\n",
        "\n",
        "def pitch_time_combination(audio, pitch_steps=4, stretch_rate=1.2):\n",
        "    # Pitch shifting ve time stretching kombinasyonu\n",
        "    audio = pitch_shift(audio, n_steps=pitch_steps)\n",
        "    audio = time_stretch(audio, rate=stretch_rate)\n",
        "    return audio\n",
        "\n",
        "# Veri artırma işlemi\n",
        "for folder in folders:\n",
        "    folder_path = os.path.join(base_dir, folder)\n",
        "\n",
        "    # Eğer klasör mevcutsa\n",
        "    if os.path.exists(folder_path):\n",
        "        for filename in os.listdir(folder_path):\n",
        "            if filename.startswith(\"normalized_\") and filename.endswith(\".wav\"):  # Sadece denoised dosyaları\n",
        "                # .wav dosyasının yolu\n",
        "                wav_file_path = os.path.join(folder_path, filename)\n",
        "\n",
        "                # Orijinal ses dosyasını aç\n",
        "                audio = AudioSegment.from_wav(wav_file_path)\n",
        "\n",
        "                # 1. Zaman Gerçekleştirmeleri (Time Stretching)\n",
        "                time_stretched_audio = time_stretch(audio, rate=1.2)\n",
        "                time_stretched_audio.export(os.path.join(folder_path, f\"time_stretched_{filename}\"), format=\"wav\")\n",
        "\n",
        "                # 2. Ses Yüksekliğini Değiştirme (Pitch Shifting)\n",
        "                pitch_shifted_audio = pitch_shift(audio, n_steps=4)\n",
        "                pitch_shifted_audio.export(os.path.join(folder_path, f\"pitch_shifted_{filename}\"), format=\"wav\")\n",
        "\n",
        "                # 3. Beyaz Gürültü Eklemek (Adding White Noise)\n",
        "                noisy_audio = add_white_noise(audio, noise_level=0.05)\n",
        "                noisy_audio.export(os.path.join(folder_path, f\"noisy_{filename}\"), format=\"wav\")\n",
        "\n",
        "                # 4. Sesin Hızını Değiştirme (Speed Perturbation)\n",
        "                speed_perturbed_audio = speed_perturbation(audio, speed_factor=1.5)\n",
        "                speed_perturbed_audio.export(os.path.join(folder_path, f\"speed_perturbed_{filename}\"), format=\"wav\")\n",
        "\n",
        "                # 5. Reverb Eklemek (Adding Reverb)\n",
        "                audio_with_reverb = add_reverb(wav_file_path)\n",
        "                audio_with_reverb.export(os.path.join(folder_path, f\"reverb_{filename}\"), format=\"wav\")\n",
        "\n",
        "                # 6. Pitch Shifting ve Time Stretching Kombinasyonu\n",
        "                pitch_time_audio = pitch_time_combination(audio, pitch_steps=4, stretch_rate=1.2)\n",
        "                pitch_time_audio.export(os.path.join(folder_path, f\"pitch_time_{filename}\"), format=\"wav\")\n",
        "\n",
        "                print(f\"Veri artırma işlemi tamamlandı: {filename}\")\n"
      ]
    },
    {
      "cell_type": "code",
      "execution_count": 12,
      "metadata": {
        "colab": {
          "base_uri": "https://localhost:8080/"
        },
        "id": "0KShSxA-la_L",
        "outputId": "7f25ddcc-b58e-4f2e-edf7-383c740bf4e8"
      },
      "outputs": [
        {
          "name": "stdout",
          "output_type": "stream",
          "text": [
            "/content/ses/ardilberra/blue klasöründe 87 tane .wav dosyası var.\n",
            "/content/ses/ardilberra/green klasöründe 80 tane .wav dosyası var.\n",
            "/content/ses/ardilberra/red klasöründe 80 tane .wav dosyası var.\n",
            "/content/ses/ardilberra/close klasöründe 80 tane .wav dosyası var.\n",
            "/content/ses/ardilberra/open klasöründe 80 tane .wav dosyası var.\n"
          ]
        }
      ],
      "source": [
        "import os\n",
        "\n",
        "base_dir = \"/content/ses/ardilberra\"\n",
        "folders = ['blue', 'green', 'red', 'close', 'open']\n",
        "\n",
        "# Her klasördeki .wav dosyalarını sayma\n",
        "for folder in folders:\n",
        "    folder_path = os.path.join(base_dir, folder)\n",
        "\n",
        "    if os.path.exists(folder_path):\n",
        "        wav_count = 0\n",
        "\n",
        "        # Dosyaları sayma\n",
        "        for filename in os.listdir(folder_path):\n",
        "            if filename.endswith(\".wav\"):\n",
        "                wav_count += 1\n",
        "\n",
        "        print(f\"{folder_path} klasöründe {wav_count} tane .wav dosyası var.\")\n",
        "    else:\n",
        "        print(f\"{folder_path} klasörü bulunamadı.\")\n"
      ]
    },
    {
      "cell_type": "code",
      "execution_count": 13,
      "metadata": {
        "colab": {
          "base_uri": "https://localhost:8080/",
          "height": 34
        },
        "id": "uHsY7Tk6lbCh",
        "outputId": "a006ba28-70da-4da3-bf36-432fd1e51424"
      },
      "outputs": [
        {
          "data": {
            "application/javascript": "\n    async function download(id, filename, size) {\n      if (!google.colab.kernel.accessAllowed) {\n        return;\n      }\n      const div = document.createElement('div');\n      const label = document.createElement('label');\n      label.textContent = `Downloading \"${filename}\": `;\n      div.appendChild(label);\n      const progress = document.createElement('progress');\n      progress.max = size;\n      div.appendChild(progress);\n      document.body.appendChild(div);\n\n      const buffers = [];\n      let downloaded = 0;\n\n      const channel = await google.colab.kernel.comms.open(id);\n      // Send a message to notify the kernel that we're ready.\n      channel.send({})\n\n      for await (const message of channel.messages) {\n        // Send a message to notify the kernel that we're ready.\n        channel.send({})\n        if (message.buffers) {\n          for (const buffer of message.buffers) {\n            buffers.push(buffer);\n            downloaded += buffer.byteLength;\n            progress.value = downloaded;\n          }\n        }\n      }\n      const blob = new Blob(buffers, {type: 'application/binary'});\n      const a = document.createElement('a');\n      a.href = window.URL.createObjectURL(blob);\n      a.download = filename;\n      div.appendChild(a);\n      a.click();\n      div.remove();\n    }\n  ",
            "text/plain": [
              "<IPython.core.display.Javascript object>"
            ]
          },
          "metadata": {},
          "output_type": "display_data"
        },
        {
          "data": {
            "application/javascript": "download(\"download_a72cee0e-42cc-4d11-9de9-7c0ee4d22e60\", \"ses_ardil.zip\", 105981205)",
            "text/plain": [
              "<IPython.core.display.Javascript object>"
            ]
          },
          "metadata": {},
          "output_type": "display_data"
        }
      ],
      "source": [
        "import shutil\n",
        "\n",
        "# Klasör yolunu belirtin\n",
        "folder_path = '/content/ses/ardilberra'\n",
        "\n",
        "# Zip dosyasına dönüştürme\n",
        "shutil.make_archive('/content/ses_ardil', 'zip', folder_path)\n",
        "\n",
        "# Zip dosyasını indirme\n",
        "from google.colab import files\n",
        "files.download('/content/ses_ardil.zip')\n"
      ]
    }
  ],
  "metadata": {
    "colab": {
      "provenance": []
    },
    "kernelspec": {
      "display_name": "Python 3",
      "name": "python3"
    },
    "language_info": {
      "name": "python"
    }
  },
  "nbformat": 4,
  "nbformat_minor": 0
}
